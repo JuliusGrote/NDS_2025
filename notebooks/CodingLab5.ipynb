{
 "cells": [
  {
   "cell_type": "markdown",
   "metadata": {},
   "source": [
    "_Neural Data Science_\n",
    "\n",
    "Lecturer: Dr. Jan Lause, Prof. Dr. Philipp Berens\n",
    "\n",
    "Tutors: Jonas Beck, Fabio Seel, Julius Würzler\n",
    "\n",
    "Summer term 2025\n",
    "\n",
    "Student names: *Jannis Ahlert, Julius Grote , Hun Seok Choi*\n",
    "\n",
    "LLM Disclaimer: *Github Copilot and Chat GPT, used for autompletion and debugging.*"
   ]
  },
  {
   "cell_type": "markdown",
   "metadata": {},
   "source": [
    "# Coding Lab 5"
   ]
  },
  {
   "cell_type": "code",
   "execution_count": 1,
   "metadata": {},
   "outputs": [
    {
     "name": "stdout",
     "output_type": "stream",
     "text": [
      "Last updated: 2025-05-22 16:10:07CEST\n",
      "\n",
      "Python implementation: CPython\n",
      "Python version       : 3.10.0\n",
      "IPython version      : 8.35.0\n",
      "\n",
      "sklearn: 1.6.1\n",
      "\n",
      "numpy     : 2.2.5\n",
      "scipy     : 1.15.2\n",
      "matplotlib: 3.10.1\n",
      "\n",
      "Watermark: 2.5.0\n",
      "\n"
     ]
    }
   ],
   "source": [
    "import matplotlib.pyplot as plt\n",
    "import numpy as np\n",
    "import scipy.optimize as opt\n",
    "import scipy.io as io\n",
    "\n",
    "%load_ext jupyter_black\n",
    "\n",
    "%load_ext watermark\n",
    "%watermark --time --date --timezone --updated --python --iversions --watermark -p sklearn\n",
    "\n",
    "%matplotlib inline\n",
    "plt.style.use(\"../matplotlib_style.txt\")"
   ]
  },
  {
   "cell_type": "markdown",
   "metadata": {},
   "source": [
    "# Task 1: Fit RF on simulated data\n",
    "\n",
    "We will start  with toy data generated from an LNP model neuron to make sure everything works right. The model LNP neuron consists of one Gaussian linear filter, an exponential nonlinearity and a Poisson spike count generator. We look at it in discrete time with time bins of width $\\delta t$. The model is:\n",
    "\n",
    "$$\n",
    "c_t \\sim Poisson(r_t)\\\\\n",
    "r_t = \\exp(w^T s_t) \\cdot \\Delta t \\cdot R\n",
    "$$\n",
    "\n",
    "Here, $c_t$ is the spike count in time window $t$ of length $\\Delta t$, $s_t$ is the stimulus and $w$ is the receptive field of the neuron. The receptive field variable `w` is 15 × 15 pixels and normalized to $||w||=1$. A stimulus frame is a 15 × 15 pixel image, for which we use uncorrelated checkerboard noise (binary) with a stimulus intesity of 5 (peak to peak). R can be used to bring the firing rate into the right regime (e.g. by setting $R=50$).      \n",
    "\n",
    "For computational ease, we reformat the stimulus and the receptive field in a 225 by 1 array. The function ```sample_lnp``` can be used to generate data from this model. It returns a spike count vector `c` with samples from the model (dimensions: 1 by nT = $T/\\Delta t$), a stimulus matrix `s` (dimensions: 225 × nT) and the mean firing rate `r` (dimensions: nT × 1). \n",
    "\n",
    "Here we assume that the receptive field influences the spike count instantaneously just as in the above equations. Implement a Maximum Likelihood approach to fit the receptive field. \n",
    "\n",
    "To this end derive mathematically and implement the log-likelihood function $L(w)$ and its gradient $\\frac{L(w)}{dw}$ with respect to $w$ (`negloglike_lnp`). The log-likelihood of the model is\n",
    "$$L(w) = \\log \\prod_t \\frac{r_t^{c_t}}{c_t!}\\exp(-r_t).$$\n",
    "\n",
    "Make sure you include intermediate steps of the mathematical derivation in your answer, and you give as final form the maximally simplified expression, substituting the corresponding variables.\n",
    "\n",
    "Plot the stimulus for one frame, the cell's response over time and the spike count vs firing rate. Plot the true and the estimated receptive field. \n",
    "\n",
    "*Grading: 2 pts (calculations) + 4 pts (generation) + 4 pts (implementation)*\n"
   ]
  },
  {
   "cell_type": "markdown",
   "metadata": {},
   "source": [
    "### Calculations (2 pts)\n",
    "_You can add your calculations in_ $\\LaTeX$ _here_. \n",
    "\n",
    "$L(\\omega) = \\ldots$\n",
    "\n",
    "$\\frac{dL(\\omega)}{d\\omega} = \\ldots$\n",
    "\n",
    "$$\n",
    "L(w)\n",
    "= \\log \\prod_{t=1}^{n_T} \\frac{r_t^{\\,c_t}}{c_t!} e^{-r_t}\n",
    "= \\sum_{t=1}^{n_T} \\bigl[c_t \\log r_t - r_t - \\log(c_t!)\\bigr].\n",
    "$$\n",
    "\n",
    "$$\n",
    "\\text{where}\\quad\n",
    "r_t = \\exp\\bigl(w^\\top s_t\\bigr)\\,\\Delta t\\,R.\n",
    "$$\n",
    "\n",
    "Thus\n",
    "$$\n",
    "\\begin{aligned}\n",
    "L(w)\n",
    "&= \\sum_{t=1}^{n_T} \\Bigl[\\,c_t\\bigl(w^\\top s_t + \\log(\\Delta t\\,R)\\bigr)\n",
    "- \\exp(w^\\top s_t)\\,\\Delta t\\,R\n",
    "- \\log(c_t!)\\Bigr],\\\\\n",
    "-\\,L(w)\n",
    "&= \\sum_{t=1}^{n_T} \\Bigl[\\exp(w^\\top s_t)\\,\\Delta t\\,R\n",
    "- c_t\\,(w^\\top s_t)\\Bigr]\n",
    "+ \\underbrace{\\sum_{t=1}^{n_T}\\bigl[-\\,c_t\\log(\\Delta t\\,R) + \\log(c_t!)\\bigr]}_{\\text{constant in }w}.\n",
    "\\end{aligned}\n",
    "$$\n",
    "\n",
    "Discarding the constant term, our objective is\n",
    "$$\n",
    "\\mathcal{J}(w)\n",
    "= \\sum_{t=1}^{n_T} \\Bigl[\\exp(w^\\top s_t)\\,\\Delta t\\,R \\;-\\; c_t\\,(w^\\top s_t)\\Bigr].\n",
    "$$\n",
    "\n",
    "Its gradient is\n",
    "$$\n",
    "\\nabla_w \\mathcal{J}(w)\n",
    "= \\sum_{t=1}^{n_T} \\Bigl[\\exp(w^\\top s_t)\\,\\Delta t\\,R - c_t\\Bigr]\\,s_t\n",
    "= \\sum_{t=1}^{n_T} (r_t - c_t)\\,s_t.\n",
    "$$"
   ]
  },
  {
   "cell_type": "markdown",
   "metadata": {},
   "source": [
    "### Generate data (2 pts)"
   ]
  },
  {
   "cell_type": "code",
   "execution_count": 2,
   "metadata": {},
   "outputs": [
    {
     "data": {
      "text/plain": [
       "Text(0.5, 1.0, 'Gaussian RF')"
      ]
     },
     "execution_count": 2,
     "metadata": {},
     "output_type": "execute_result"
    },
    {
     "data": {
      "image/png": "[encoded data removed]",
      "text/plain": [
       "<Figure size 500x500 with 1 Axes>"
      ]
     },
     "metadata": {},
     "output_type": "display_data"
    }
   ],
   "source": [
    "def gen_gauss_rf(D: int, width: float, center: tuple = (0, 0)) -> np.ndarray:\n",
    "    \"\"\"\n",
    "    Generate a Gaussian receptive field.\n",
    "\n",
    "    Args:\n",
    "        D (int): Size of the receptive field (DxD).\n",
    "        width (float): Width parameter of the Gaussian.\n",
    "        center (tuple, optional): Center coordinates of the receptive field. Defaults to (0, 0).\n",
    "\n",
    "    Returns:\n",
    "        np.ndarray: Gaussian receptive field.\n",
    "    \"\"\"\n",
    "\n",
    "    sz = (D - 1) / 2\n",
    "    x, y = np.meshgrid(np.arange(-sz, sz + 1), np.arange(-sz, sz + 1))\n",
    "    x = x + center[0]\n",
    "    y = y + center[1]\n",
    "    w = np.exp(-(x**2 / width + y**2 / width))\n",
    "    w = w / np.sum(w.flatten())\n",
    "\n",
    "    return w\n",
    "\n",
    "\n",
    "w = gen_gauss_rf(15, 7, (1, 1))\n",
    "\n",
    "vlim = np.max(np.abs(w))\n",
    "fig, ax = plt.subplots(1, 1, figsize=(5, 5))\n",
    "ax.imshow(w, cmap=\"bwr\", vmin=-vlim, vmax=vlim)\n",
    "ax.set_title(\"Gaussian RF\")"
   ]
  },
  {
   "cell_type": "code",
   "execution_count": 3,
   "metadata": {},
   "outputs": [],
   "source": [
    "def sample_lnp(\n",
    "    w: np.array, nT: int, dt: float, R: float, s_i: float, random_seed: int = 10\n",
    "):\n",
    "    \"\"\"Generate samples from an instantaneous LNP model neuron with\n",
    "    receptive field kernel w.\n",
    "\n",
    "    Parameters\n",
    "    ----------\n",
    "\n",
    "    w: np.array, (Dx * Dy, )\n",
    "        (flattened) receptive field kernel.\n",
    "\n",
    "    nT: int\n",
    "        number of time steps\n",
    "\n",
    "    dt: float\n",
    "        duration of a frame in s\n",
    "\n",
    "    R: float\n",
    "        rate parameter\n",
    "\n",
    "    s_i: float\n",
    "        stimulus intensity peak to peak\n",
    "\n",
    "    random_seed: int\n",
    "        seed for random number generator\n",
    "\n",
    "    Returns\n",
    "    -------\n",
    "\n",
    "    c: np.array, (nT, )\n",
    "        sampled spike counts in time bins\n",
    "\n",
    "    r: np.array, (nT, )\n",
    "        mean rate in time bins\n",
    "\n",
    "    s: np.array, (Dx * Dy, nT)\n",
    "        stimulus frames used\n",
    "\n",
    "    Note\n",
    "    ----\n",
    "\n",
    "    See equations in task description above for a precise definition\n",
    "    of the individual parameters.\n",
    "\n",
    "    \"\"\"\n",
    "\n",
    "    rng = np.random.default_rng(random_seed)\n",
    "\n",
    "    # ------------------------------------------------\n",
    "    # Generate samples from an instantaneous LNP model\n",
    "    # neuron with receptive field kernel w. (1 pt)\n",
    "    # ------------------------------------------------\n",
    "    D = w.shape[0]\n",
    "    # Stimulus: Gaussian IID\n",
    "    s = rng.normal(loc=0.0, scale=s_i, size=(D, nT))\n",
    "    # Linear filter output\n",
    "    lin = w @ s  # shape (nT,)\n",
    "    r = np.exp(lin) * dt * R  # shape (nT,)\n",
    "    # Generate Poisson spikes\n",
    "    c = rng.poisson(lam=r)\n",
    "    return c, r, s"
   ]
  },
  {
   "cell_type": "code",
   "execution_count": 4,
   "metadata": {},
   "outputs": [],
   "source": [
    "D = 15  # number of pixels\n",
    "nT = 1000  # number of time bins\n",
    "dt = 0.1  # bins of 100 ms\n",
    "R = 50  # firing rate in Hz\n",
    "s_i = 5  # stimulus intensity\n",
    "\n",
    "w = gen_gauss_rf(D, 7, (1, 1))\n",
    "w = w.flatten()\n",
    "\n",
    "c, r, s = sample_lnp(w, nT, dt, R, s_i)"
   ]
  },
  {
   "cell_type": "markdown",
   "metadata": {},
   "source": [
    "Plot the stimulus for one frame, the cell's response over time and the spike count vs firing rate."
   ]
  },
  {
   "cell_type": "code",
   "execution_count": 5,
   "metadata": {},
   "outputs": [
    {
     "name": "stderr",
     "output_type": "stream",
     "text": [
      "/var/folders/yj/hdkffs_95ls2_lm_zcg93cwh0000gn/T/ipykernel_69809/851930843.py:31: UserWarning: The figure layout has changed to tight\n",
      "  plt.tight_layout()\n"
     ]
    },
    {
     "data": {
      "image/png": "[encoded data removed]",
      "text/plain": [
       "<Figure size 1500x400 with 3 Axes>"
      ]
     },
     "metadata": {},
     "output_type": "display_data"
    }
   ],
   "source": [
    "mosaic = mosaic = [[\"stim\", \"responses\", \"count/rate\"]]\n",
    "\n",
    "fig, ax = plt.subplot_mosaic(mosaic=mosaic, figsize=(15, 4))\n",
    "# -----------------------------------------------------------------------------------------------------------\n",
    "# Plot the stimulus for one frame, the cell's responses over time and spike count vs firing rate (1 pt)\n",
    "# -----------------------------------------------------------------------------------------------------------\n",
    "\n",
    "# Plot the stimulus for one frame\n",
    "t0 = nT // 2\n",
    "D = s.shape[0]\n",
    "side = int(np.sqrt(D))\n",
    "stim_frame = s[:, t0].reshape(side, side)\n",
    "\n",
    "ax[\"stim\"].imshow(stim_frame, cmap=\"gray\", aspect=\"equal\")\n",
    "ax[\"stim\"].set_title(f\"Stimulus Frame {t0}\")\n",
    "ax[\"stim\"].axis(\"off\")\n",
    "\n",
    "# Plot the cell's responses (spike counts) over time\n",
    "time = np.arange(nT) * dt\n",
    "ax[\"responses\"].plot(time, c, drawstyle=\"steps-mid\")\n",
    "ax[\"responses\"].set_xlabel(\"Time (s)\")\n",
    "ax[\"responses\"].set_ylabel(\"Spike Count\")\n",
    "ax[\"responses\"].set_title(\"Responses Over Time\")\n",
    "\n",
    "# Plot spike count vs. predicted firing rate\n",
    "ax[\"count/rate\"].scatter(r, c, alpha=0.6, edgecolor=\"k\")\n",
    "ax[\"count/rate\"].set_xlabel(\"Predicted Rate (rₜ)\")\n",
    "ax[\"count/rate\"].set_ylabel(\"Observed Count (cₜ)\")\n",
    "ax[\"count/rate\"].set_title(\"Spike Count vs. Firing Rate\")\n",
    "\n",
    "plt.tight_layout()\n",
    "plt.show()"
   ]
  },
  {
   "cell_type": "markdown",
   "metadata": {},
   "source": [
    "### Implementation (3 pts)\n",
    "\n",
    "Implement the negative log-likelihood of the LNP and its gradient with respect to the receptive field using the simplified equations you calculated earlier _(1 pt)_"
   ]
  },
  {
   "cell_type": "code",
   "execution_count": 6,
   "metadata": {},
   "outputs": [],
   "source": [
    "def negloglike_lnp(\n",
    "    w: np.array, c: np.array, s: np.array, dt: float = 0.1, R: float = 50\n",
    ") -> float:\n",
    "    \"\"\"Implements the negative (!) log-likelihood of the LNP model\n",
    "\n",
    "    Parameters\n",
    "    ----------\n",
    "\n",
    "    w: np.array, (Dx * Dy, )\n",
    "      current receptive field\n",
    "\n",
    "    c: np.array, (nT, )\n",
    "      spike counts\n",
    "\n",
    "    s: np.array, (Dx * Dy, nT)\n",
    "      stimulus matrix\n",
    "\n",
    "\n",
    "    Returns\n",
    "    -------\n",
    "\n",
    "    f: float\n",
    "      function value of the negative log likelihood at w\n",
    "\n",
    "    \"\"\"\n",
    "\n",
    "    # ------------------------------------------------\n",
    "    # Implement the negative log-likelihood of the LNP\n",
    "    # ------------------------------------------------\n",
    "\n",
    "    lin = w @ s\n",
    "    r = np.exp(lin) * dt * R\n",
    "    # Negative log-likelihood (omit constant terms)\n",
    "    return np.sum(r) - c.dot(lin)\n",
    "\n",
    "\n",
    "def deriv_negloglike_lnp(\n",
    "    w: np.array, c: np.array, s: np.array, dt: float = 0.1, R: float = 50\n",
    ") -> np.array:\n",
    "    \"\"\"Implements the gradient of the negative log-likelihood of the LNP model\n",
    "\n",
    "    Parameters\n",
    "    ----------\n",
    "\n",
    "    see negloglike_lnp\n",
    "\n",
    "    Returns\n",
    "    -------\n",
    "\n",
    "    df: np.array, (Dx * Dy, )\n",
    "      gradient of the negative log likelihood with respect to w\n",
    "\n",
    "    \"\"\"\n",
    "\n",
    "    # --------------------------------------------------------------\n",
    "    # Implement the gradient with respect to the receptive field `w`\n",
    "    # --------------------------------------------------------------\n",
    "    lin = w @ s\n",
    "    r = np.exp(lin) * dt * R\n",
    "\n",
    "    return s @ (r - c)"
   ]
  },
  {
   "cell_type": "markdown",
   "metadata": {},
   "source": [
    "The helper function `check_grad` in `scipy.optimize` can help you to make sure your equations and implementations are correct. It might be helpful to validate the gradient before you run your optimizer."
   ]
  },
  {
   "cell_type": "code",
   "execution_count": 14,
   "metadata": {},
   "outputs": [
    {
     "name": "stdout",
     "output_type": "stream",
     "text": [
      "Gradient check error: 1.43e-02\n"
     ]
    }
   ],
   "source": [
    "# Check gradient\n",
    "from scipy.optimize import minimize\n",
    "from scipy.optimize import check_grad\n",
    "\n",
    "# Initial guess\n",
    "w0 = np.zeros_like(w)\n",
    "\n",
    "# Perform the gradient check\n",
    "error = check_grad(negloglike_lnp, deriv_negloglike_lnp, w0, c, s, dt, R)\n",
    "print(f\"Gradient check error: {error:.2e}\")"
   ]
  },
  {
   "cell_type": "markdown",
   "metadata": {},
   "source": [
    "Fit receptive field maximizing the log likelihood.\n",
    "\n",
    "The scipy.optimize package also has suitable functions for optimization. If you generate a large number of samples, the fitted receptive field will look more similar to the true receptive field. With more samples, the optimization takes longer, however."
   ]
  },
  {
   "cell_type": "code",
   "execution_count": 15,
   "metadata": {},
   "outputs": [
    {
     "name": "stdout",
     "output_type": "stream",
     "text": [
      "Optimization terminated successfully.\n",
      "         Current function value: 2114.826542\n",
      "         Iterations: 246\n",
      "         Function evaluations: 423\n",
      "         Gradient evaluations: 423\n"
     ]
    }
   ],
   "source": [
    "# ------------------------------------------\n",
    "# Estimate the receptive field by maximizing\n",
    "# the log-likelihood (or more commonly,\n",
    "# minimizing the negative log-likelihood).\n",
    "#\n",
    "# Tips: use scipy.optimize.minimize(). (1 pt)\n",
    "# ------------------------------------------\n",
    "w0 = np.zeros_like(w)  # initial guess\n",
    "res = minimize(\n",
    "    fun=negloglike_lnp,\n",
    "    x0=w0,\n",
    "    args=(c, s, dt, R),\n",
    "    jac=deriv_negloglike_lnp,\n",
    "    method=\"BFGS\",\n",
    "    options={\"disp\": True},\n",
    ")\n",
    "w_est = res.x.reshape((int(np.sqrt(w.size)),) * 2)"
   ]
  },
  {
   "cell_type": "markdown",
   "metadata": {},
   "source": [
    "Plot the true and the estimated receptive field."
   ]
  },
  {
   "cell_type": "code",
   "execution_count": 22,
   "metadata": {},
   "outputs": [
    {
     "data": {
      "image/png": "[encoded data removed]",
      "text/plain": [
       "<Figure size 1200x500 with 4 Axes>"
      ]
     },
     "metadata": {},
     "output_type": "display_data"
    }
   ],
   "source": [
    "# ------------------------------------\n",
    "# Plot the ground truth and estimated\n",
    "# `w` side by side. (1 pt)\n",
    "# ------------------------------------\n",
    "\n",
    "mosaic = [[\"True\", \"Estimated\"]]\n",
    "fig, ax = plt.subplot_mosaic(mosaic=mosaic, figsize=(12, 5))\n",
    "\n",
    "# make sure to add a colorbar. 'bwr' is a reasonable choice for the cmap.\n",
    "vlim = np.max(np.abs(w))\n",
    "\n",
    "# True RF\n",
    "im0 = ax[\"True\"].imshow(\n",
    "    w.reshape(w_est.shape), cmap=\"bwr\", vmin=-vlim, vmax=vlim, origin=\"lower\"\n",
    ")\n",
    "ax[\"True\"].set_title(\"True RF\")\n",
    "ax[\"True\"].set_xlabel(\"Spatial X (pixel index)\")\n",
    "ax[\"True\"].set_ylabel(\"Spatial Y (pixel index)\")\n",
    "cbar0 = fig.colorbar(im0, ax=ax[\"True\"], fraction=0.046, pad=0.04)\n",
    "\n",
    "# Estimated RF\n",
    "im1 = ax[\"Estimated\"].imshow(w_est, cmap=\"bwr\", vmin=-vlim, vmax=vlim, origin=\"lower\")\n",
    "ax[\"Estimated\"].set_title(\"Estimated RF\")\n",
    "ax[\"Estimated\"].set_xlabel(\"Spatial X (pixel index)\")\n",
    "ax[\"Estimated\"].set_ylabel(\"Spatial Y (pixel index)\")\n",
    "cbar1 = fig.colorbar(im1, ax=ax[\"Estimated\"], fraction=0.046, pad=0.04)\n",
    "cbar1.set_label(\"RF weight (positive=excitatory,\\nnegative=inhibitory)\")\n",
    "\n",
    "plt.show()"
   ]
  },
  {
   "cell_type": "markdown",
   "metadata": {},
   "source": [
    "# Task 2: Apply to real neuron\n",
    "\n",
    "Download the dataset for this task from Ilias (`nds_cl_5_data.mat`). It contains a stimulus matrix (`s`) in the same format you used before and the spike times. In addition, there is an array called `trigger` which contains the times at which the stimulus frames were swapped.\n",
    "\n",
    "* Generate an array of spike counts at the same temporal resolution as the stimulus frames\n",
    "* Fit the receptive field with time lags of 0 to 4 frames. Fit them one lag at a time (the ML fit is very sensitive to the number of parameters estimated and will not produce good results if you fit the full space-time receptive field for more than two time lags at once). \n",
    "* Plot the resulting filters\n",
    "\n",
    "*Grading: 3.5 pts*\n"
   ]
  },
  {
   "cell_type": "code",
   "execution_count": null,
   "metadata": {},
   "outputs": [],
   "source": [
    "var = io.loadmat(\"../data/nds_cl_5_data.mat\")\n",
    "\n",
    "# t contains the spike times of the neuron\n",
    "t = var[\"DN_spiketimes\"].flatten()\n",
    "\n",
    "# trigger contains the times at which the stimulus flipped\n",
    "trigger = var[\"DN_triggertimes\"].flatten()\n",
    "\n",
    "# contains the stimulus movie with black and white pixels\n",
    "s = var[\"DN_stim\"]\n",
    "s = s.reshape((300, 1500))  # the shape of each frame is (20, 15)\n",
    "s = s[:, 1 : len(trigger)]"
   ]
  },
  {
   "cell_type": "markdown",
   "metadata": {},
   "source": [
    "Create vector of spike counts"
   ]
  },
  {
   "cell_type": "code",
   "execution_count": null,
   "metadata": {},
   "outputs": [],
   "source": [
    "# ------------------------------------------\n",
    "# Bin the spike counts at the same temporal\n",
    "# resolution as the stimulus (0.5 pts)\n",
    "# ------------------------------------------"
   ]
  },
  {
   "cell_type": "markdown",
   "metadata": {},
   "source": [
    "Fit receptive field for each frame separately"
   ]
  },
  {
   "cell_type": "code",
   "execution_count": null,
   "metadata": {},
   "outputs": [],
   "source": [
    "# ------------------------------------------\n",
    "# Fit the receptive field with time lags of\n",
    "# 0 to 4 frames separately (1 pt)\n",
    "#\n",
    "# The final receptive field (`w_hat`) should\n",
    "# be in the shape of (Dx * Dy, 5)\n",
    "# ------------------------------------------\n",
    "\n",
    "# specify the time lags\n",
    "delta = [0, 1, 2, 3, 4]\n",
    "\n",
    "# fit for each delay"
   ]
  },
  {
   "cell_type": "markdown",
   "metadata": {},
   "source": [
    "Plot the frames one by one and explain what you see."
   ]
  },
  {
   "cell_type": "code",
   "execution_count": null,
   "metadata": {},
   "outputs": [],
   "source": [
    "# --------------------------------------------\n",
    "# Plot all 5 frames of the fitted RFs (1 pt)\n",
    "# --------------------------------------------\n",
    "\n",
    "fig, ax = plt.subplot_mosaic(mosaic=[delta], figsize=(10, 4), constrained_layout=True)"
   ]
  },
  {
   "cell_type": "markdown",
   "metadata": {},
   "source": [
    "_Explanation (1 pt)_\n",
    "..."
   ]
  },
  {
   "cell_type": "markdown",
   "metadata": {},
   "source": [
    "# Task 3: Separate space/time components\n",
    "\n",
    "The receptive field of the neuron can be decomposed into a spatial and a temporal component. Because of the way we computed them, both are independent and the resulting spatio-temporal component is thus called separable. As discussed in the lecture, you can use singular-value decomposition to separate these two: \n",
    "\n",
    "$$\n",
    "W = u_1 s_1 v_1^T\n",
    "$$\n",
    "\n",
    "Here $u_1$ and $v_1$ are the singular vectors belonging to the 1st singular value $s_1$ and provide a long rank approximation of W, the array with all receptive fields. It is important that the mean is subtracted before computing the SVD.  \n",
    "\n",
    "Plot the first temporal component and the first spatial component. You can use a Python implementation of SVD. The results can look a bit puzzling, because the sign of the components is arbitrary.\n",
    "\n",
    "*Grading: 1.5 pts*"
   ]
  },
  {
   "cell_type": "code",
   "execution_count": null,
   "metadata": {},
   "outputs": [],
   "source": [
    "# --------------------------------------------\n",
    "# Apply SVD to the fitted receptive field,\n",
    "# you can use either numpy or sklearn (0.5 pt)\n",
    "# --------------------------------------------\n",
    "\n"
   ]
  },
  {
   "cell_type": "code",
   "execution_count": null,
   "metadata": {},
   "outputs": [],
   "source": [
    "# -------------------------------------------------\n",
    "# Plot the spatial and temporal components (1 pt)\n",
    "# -------------------------------------------------\n",
    "\n",
    "fig, ax = plt.subplot_mosaic(\n",
    "    mosaic=[[\"Spatial\", \"Temporal\"]], figsize=(10, 4), constrained_layout=True\n",
    ")\n",
    "# add plot"
   ]
  },
  {
   "cell_type": "markdown",
   "metadata": {},
   "source": [
    "# Task 4: Regularized receptive field\n",
    "\n",
    "As you can see, maximum likelihood estimation of linear receptive fields can be quite noisy, if little data is available. \n",
    "\n",
    "To improve on this, one can regularize the receptive field vector and a term to the cost function\n",
    "\n",
    "\n",
    "$$\n",
    "C(w) = L(w) + \\alpha ||w||_p^2\n",
    "$$\n",
    "\n",
    "Here, the $p$ indicates which norm of $w$ is used: for $p=2$, this is shrinks all coefficient equally to zero; for $p=1$, it favors sparse solutions, a penality also known as lasso. Because the 1-norm is not smooth at zero, it is not as straightforward to implement \"by hand\". \n",
    "\n",
    "Use a toolbox with an implementation of the lasso-penalization and fit the receptive field. Possibly, you will have to try different values of the regularization parameter $\\alpha$. Plot your estimates from above and the lasso-estimates. How do they differ? What happens when you increase or decrease $alpha$?\n",
    "\n",
    "If you want to keep the Poisson noise model, you can use the implementation in [`pyglmnet`](https://pypi.python.org/pypi/pyglmnet). Otherwise, you can also resort to the linear model from `sklearn` which assumes Gaussian noise (which in my hands was much faster).\n",
    "\n",
    "*Grading: 3 pts*\n"
   ]
  },
  {
   "cell_type": "code",
   "execution_count": null,
   "metadata": {},
   "outputs": [],
   "source": [
    "from sklearn import linear_model\n",
    "\n",
    "# ------------------------------------------\n",
    "# Fit the receptive field with time lags of\n",
    "# 0 to 4 frames separately (the same as before)\n",
    "# with sklearn or pyglmnet for different values\n",
    "# of alpha (1 pt)\n",
    "# ------------------------------------------\n",
    "\n",
    "delta = [0, 1, 2, 3, 4]\n",
    "alphas= []"
   ]
  },
  {
   "cell_type": "code",
   "execution_count": null,
   "metadata": {},
   "outputs": [],
   "source": [
    "# ------------------------------------------\n",
    "# plot the estimated receptive fields (1 pt)\n",
    "# ------------------------------------------\n",
    "\n",
    "\n",
    "fig, ax = plt.subplots(\n",
    "    len(alphas), len(delta), figsize=(10, 4), constrained_layout=True\n",
    ")# add plot"
   ]
  },
  {
   "cell_type": "markdown",
   "metadata": {},
   "source": [
    "_Explanation (1 pt)_\n",
    "..."
   ]
  },
  {
   "cell_type": "markdown",
   "metadata": {},
   "source": [
    "## Bonus Task (Optional): Spike Triggered Average\n",
    "\n",
    "Instead of the Maximum Likelihood implementation above, estimate the receptive field using the spike triggered average.\n",
    "Use it to increase the temporal resolution of your receptive field estimate.\n",
    "Perform the SVD analysis for your STA-based receptive field and plot the spatial and temporal kernel as in Task 3.\n",
    "\n",
    "**Questions:**\n",
    "1. Explain how / why you chose a specific time delta.\n",
    "2. Reconsider what you know about STA. Is it suitable to use STA for this data? Why/why not? What are the (dis-)advantages of using the MLE based method from above?\n",
    "\n",
    "_Grading: 1 BONUS Point._\n",
    "\n",
    "\n",
    "_BONUS Points do not count for this individual coding lab, but sum up to 5% of your **overall coding lab grade**. There are 4 BONUS points across all coding labs._"
   ]
  }
 ],
 "metadata": {
  "kernelspec": {
   "display_name": "Python 3 (ipykernel)",
   "language": "python",
   "name": "python3"
  },
  "language_info": {
   "codemirror_mode": {
    "name": "ipython",
    "version": 3
   },
   "file_extension": ".py",
   "mimetype": "text/x-python",
   "name": "python",
   "nbconvert_exporter": "python",
   "pygments_lexer": "ipython3",
   "version": "3.10.0"
  }
 },
 "nbformat": 4,
 "nbformat_minor": 4
}
